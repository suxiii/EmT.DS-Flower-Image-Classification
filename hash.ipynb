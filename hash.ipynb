{
 "cells": [
  {
   "cell_type": "code",
   "execution_count": 1,
   "metadata": {},
   "outputs": [
    {
     "name": "stdout",
     "output_type": "stream",
     "text": [
      "Hashed value: (3065350255, 823577552, 3910065406)\n"
     ]
    }
   ],
   "source": [
    "def convert_to_word(message):\n",
    "    \"\"\"Convert a string message into a list of 32-bit words.\"\"\"\n",
    "    words = []\n",
    "    for i in range(0, len(message), 4):\n",
    "        word = 0\n",
    "        for j in range(4):\n",
    "            if i + j < len(message):\n",
    "                word |= ord(message[i + j]) << (8 * (3 - j))\n",
    "        words.append(word)\n",
    "    return words\n",
    "\n",
    "def hash_message(message):\n",
    "    \"\"\"Hash a message using the given algorithm.\"\"\"\n",
    "    # Initialize hash values\n",
    "    AA = 0x67452301\n",
    "    BB = 0xEFCDAB89\n",
    "    CC = 0x98BADCFE\n",
    "\n",
    "    # Divide message into words\n",
    "    words = convert_to_word(message)\n",
    "    \n",
    "    # Group words for looping\n",
    "    groups = [words[i:i+3] for i in range(0, len(words), 3)]\n",
    "    \n",
    "    # Loop through each group\n",
    "    for group in groups:\n",
    "        # Pad group with zeroes if necessary\n",
    "        while len(group) < 3:\n",
    "            group.append(0)\n",
    "\n",
    "        # Loop through the group\n",
    "        A = (group[0] + AA) & 0xFFFFFFFF\n",
    "        B = (group[1] + BB) & 0xFFFFFFFF\n",
    "        C = (group[2] + CC) & 0xFFFFFFFF\n",
    "\n",
    "        # Update hash values\n",
    "        AA = A\n",
    "        BB = B\n",
    "        CC = C\n",
    "\n",
    "    # Final hash value\n",
    "    return (AA, BB, CC)\n",
    "\n",
    "# Example usage\n",
    "message = \"OpenAI GPT\"\n",
    "hashed_value = hash_message(message)\n",
    "print(\"Hashed value:\", hashed_value)\n"
   ]
  }
 ],
 "metadata": {
  "kernelspec": {
   "display_name": ".venv",
   "language": "python",
   "name": "python3"
  },
  "language_info": {
   "codemirror_mode": {
    "name": "ipython",
    "version": 3
   },
   "file_extension": ".py",
   "mimetype": "text/x-python",
   "name": "python",
   "nbconvert_exporter": "python",
   "pygments_lexer": "ipython3",
   "version": "undefined.undefined.undefined"
  }
 },
 "nbformat": 4,
 "nbformat_minor": 2
}
