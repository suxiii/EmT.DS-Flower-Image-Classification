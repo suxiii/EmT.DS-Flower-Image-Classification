{
 "cells": [
  {
   "cell_type": "code",
   "execution_count": 1,
   "metadata": {},
   "outputs": [
    {
     "name": "stdout",
     "output_type": "stream",
     "text": [
      "Collecting tensorflow\n",
      "  Downloading tensorflow-2.16.1-cp311-cp311-win_amd64.whl.metadata (3.5 kB)\n",
      "Collecting tensorflow-gpu\n",
      "  Downloading tensorflow-gpu-2.12.0.tar.gz (2.6 kB)\n",
      "  Installing build dependencies: started\n",
      "  Installing build dependencies: finished with status 'done'\n",
      "  Getting requirements to build wheel: started\n",
      "  Getting requirements to build wheel: finished with status 'error'\n",
      "Note: you may need to restart the kernel to use updated packages.\n"
     ]
    },
    {
     "name": "stderr",
     "output_type": "stream",
     "text": [
      "  error: subprocess-exited-with-error\n",
      "  \n",
      "  × Getting requirements to build wheel did not run successfully.\n",
      "  │ exit code: 1\n",
      "  ╰─> [58 lines of output]\n",
      "      Traceback (most recent call last):\n",
      "        File \"C:\\Users\\tranh\\AppData\\Local\\Temp\\pip-build-env-__tsak7p\\overlay\\Lib\\site-packages\\setuptools\\_vendor\\packaging\\requirements.py\", line 35, in __init__\n",
      "          parsed = _parse_requirement(requirement_string)\n",
      "                   ^^^^^^^^^^^^^^^^^^^^^^^^^^^^^^^^^^^^^^\n",
      "        File \"C:\\Users\\tranh\\AppData\\Local\\Temp\\pip-build-env-__tsak7p\\overlay\\Lib\\site-packages\\setuptools\\_vendor\\packaging\\_parser.py\", line 64, in parse_requirement\n",
      "          return _parse_requirement(Tokenizer(source, rules=DEFAULT_RULES))\n",
      "                 ^^^^^^^^^^^^^^^^^^^^^^^^^^^^^^^^^^^^^^^^^^^^^^^^^^^^^^^^^^\n",
      "        File \"C:\\Users\\tranh\\AppData\\Local\\Temp\\pip-build-env-__tsak7p\\overlay\\Lib\\site-packages\\setuptools\\_vendor\\packaging\\_parser.py\", line 82, in _parse_requirement\n",
      "          url, specifier, marker = _parse_requirement_details(tokenizer)\n",
      "                                   ^^^^^^^^^^^^^^^^^^^^^^^^^^^^^^^^^^^^^\n",
      "        File \"C:\\Users\\tranh\\AppData\\Local\\Temp\\pip-build-env-__tsak7p\\overlay\\Lib\\site-packages\\setuptools\\_vendor\\packaging\\_parser.py\", line 126, in _parse_requirement_details\n",
      "          marker = _parse_requirement_marker(\n",
      "                   ^^^^^^^^^^^^^^^^^^^^^^^^^^\n",
      "        File \"C:\\Users\\tranh\\AppData\\Local\\Temp\\pip-build-env-__tsak7p\\overlay\\Lib\\site-packages\\setuptools\\_vendor\\packaging\\_parser.py\", line 147, in _parse_requirement_marker\n",
      "          tokenizer.raise_syntax_error(\n",
      "        File \"C:\\Users\\tranh\\AppData\\Local\\Temp\\pip-build-env-__tsak7p\\overlay\\Lib\\site-packages\\setuptools\\_vendor\\packaging\\_tokenizer.py\", line 165, in raise_syntax_error\n",
      "          raise ParserSyntaxError(\n",
      "      setuptools.extern.packaging._tokenizer.ParserSyntaxError: Expected end or semicolon (after name and no valid version specifier)\n",
      "          python_version>\"3.7\"\n",
      "                        ^\n",
      "      \n",
      "      The above exception was the direct cause of the following exception:\n",
      "      \n",
      "      Traceback (most recent call last):\n",
      "        File \"c:\\Users\\tranh\\Documents\\GitHub\\EmergingTechnologies\\.venv\\Lib\\site-packages\\pip\\_vendor\\pyproject_hooks\\_in_process\\_in_process.py\", line 353, in <module>\n",
      "          main()\n",
      "        File \"c:\\Users\\tranh\\Documents\\GitHub\\EmergingTechnologies\\.venv\\Lib\\site-packages\\pip\\_vendor\\pyproject_hooks\\_in_process\\_in_process.py\", line 335, in main\n",
      "          json_out['return_val'] = hook(**hook_input['kwargs'])\n",
      "                                   ^^^^^^^^^^^^^^^^^^^^^^^^^^^^\n",
      "        File \"c:\\Users\\tranh\\Documents\\GitHub\\EmergingTechnologies\\.venv\\Lib\\site-packages\\pip\\_vendor\\pyproject_hooks\\_in_process\\_in_process.py\", line 118, in get_requires_for_build_wheel\n",
      "          return hook(config_settings)\n",
      "                 ^^^^^^^^^^^^^^^^^^^^^\n",
      "        File \"C:\\Users\\tranh\\AppData\\Local\\Temp\\pip-build-env-__tsak7p\\overlay\\Lib\\site-packages\\setuptools\\build_meta.py\", line 325, in get_requires_for_build_wheel\n",
      "          return self._get_build_requires(config_settings, requirements=['wheel'])\n",
      "                 ^^^^^^^^^^^^^^^^^^^^^^^^^^^^^^^^^^^^^^^^^^^^^^^^^^^^^^^^^^^^^^^^^\n",
      "        File \"C:\\Users\\tranh\\AppData\\Local\\Temp\\pip-build-env-__tsak7p\\overlay\\Lib\\site-packages\\setuptools\\build_meta.py\", line 295, in _get_build_requires\n",
      "          self.run_setup()\n",
      "        File \"C:\\Users\\tranh\\AppData\\Local\\Temp\\pip-build-env-__tsak7p\\overlay\\Lib\\site-packages\\setuptools\\build_meta.py\", line 487, in run_setup\n",
      "          super().run_setup(setup_script=setup_script)\n",
      "        File \"C:\\Users\\tranh\\AppData\\Local\\Temp\\pip-build-env-__tsak7p\\overlay\\Lib\\site-packages\\setuptools\\build_meta.py\", line 311, in run_setup\n",
      "          exec(code, locals())\n",
      "        File \"<string>\", line 40, in <module>\n",
      "        File \"C:\\Users\\tranh\\AppData\\Local\\Temp\\pip-build-env-__tsak7p\\overlay\\Lib\\site-packages\\setuptools\\__init__.py\", line 103, in setup\n",
      "          _install_setup_requires(attrs)\n",
      "        File \"C:\\Users\\tranh\\AppData\\Local\\Temp\\pip-build-env-__tsak7p\\overlay\\Lib\\site-packages\\setuptools\\__init__.py\", line 74, in _install_setup_requires\n",
      "          dist.parse_config_files(ignore_option_errors=True)\n",
      "        File \"C:\\Users\\tranh\\AppData\\Local\\Temp\\pip-build-env-__tsak7p\\overlay\\Lib\\site-packages\\setuptools\\dist.py\", line 633, in parse_config_files\n",
      "          self._finalize_requires()\n",
      "        File \"C:\\Users\\tranh\\AppData\\Local\\Temp\\pip-build-env-__tsak7p\\overlay\\Lib\\site-packages\\setuptools\\dist.py\", line 368, in _finalize_requires\n",
      "          self._normalize_requires()\n",
      "        File \"C:\\Users\\tranh\\AppData\\Local\\Temp\\pip-build-env-__tsak7p\\overlay\\Lib\\site-packages\\setuptools\\dist.py\", line 383, in _normalize_requires\n",
      "          self.install_requires = list(map(str, _reqs.parse(install_requires)))\n",
      "                                  ^^^^^^^^^^^^^^^^^^^^^^^^^^^^^^^^^^^^^^^^^^^^^\n",
      "        File \"C:\\Users\\tranh\\AppData\\Local\\Temp\\pip-build-env-__tsak7p\\overlay\\Lib\\site-packages\\setuptools\\_vendor\\packaging\\requirements.py\", line 37, in __init__\n",
      "          raise InvalidRequirement(str(e)) from e\n",
      "      setuptools.extern.packaging.requirements.InvalidRequirement: Expected end or semicolon (after name and no valid version specifier)\n",
      "          python_version>\"3.7\"\n",
      "                        ^\n",
      "      [end of output]\n",
      "  \n",
      "  note: This error originates from a subprocess, and is likely not a problem with pip.\n",
      "error: subprocess-exited-with-error\n",
      "\n",
      "× Getting requirements to build wheel did not run successfully.\n",
      "│ exit code: 1\n",
      "╰─> See above for output.\n",
      "\n",
      "note: This error originates from a subprocess, and is likely not a problem with pip.\n"
     ]
    }
   ],
   "source": [
    "%pip install tensorflow tensorflow-gpu opencv-python matplotlib"
   ]
  },
  {
   "cell_type": "code",
   "execution_count": 2,
   "metadata": {},
   "outputs": [
    {
     "name": "stdout",
     "output_type": "stream",
     "text": [
      "Package           Version\n",
      "----------------- -----------\n",
      "asttokens         2.4.1\n",
      "ColabTurtle       2.1.0\n",
      "colorama          0.4.6\n",
      "comm              0.2.2\n",
      "contourpy         1.2.1\n",
      "cycler            0.12.1\n",
      "debugpy           1.8.1\n",
      "decorator         5.1.1\n",
      "executing         2.0.1\n",
      "fonttools         4.51.0\n",
      "ipykernel         6.29.4\n",
      "ipython           8.24.0\n",
      "jedi              0.19.1\n",
      "jupyter_client    8.6.1\n",
      "jupyter_core      5.7.2\n",
      "kiwisolver        1.4.5\n",
      "matplotlib        3.8.4\n",
      "matplotlib-inline 0.1.7\n",
      "nest-asyncio      1.6.0\n",
      "numpy             1.26.4\n",
      "packaging         24.0\n",
      "pandas            2.2.2\n",
      "parso             0.8.4\n",
      "pillow            10.3.0\n",
      "pip               24.0\n",
      "platformdirs      4.2.2\n",
      "prompt-toolkit    3.0.43\n",
      "psutil            5.9.8\n",
      "pure-eval         0.2.2\n",
      "Pygments          2.18.0\n",
      "pyparsing         3.1.2\n",
      "python-dateutil   2.9.0.post0\n",
      "pytz              2024.1\n",
      "pywin32           306\n",
      "pyzmq             26.0.3\n",
      "setuptools        65.5.0\n",
      "six               1.16.0\n",
      "stack-data        0.6.3\n",
      "tornado           6.4\n",
      "traitlets         5.14.3\n",
      "typing_extensions 4.11.0\n",
      "tzdata            2024.1\n",
      "wcwidth           0.2.13\n"
     ]
    }
   ],
   "source": [
    "!pip list"
   ]
  },
  {
   "cell_type": "code",
   "execution_count": null,
   "metadata": {},
   "outputs": [],
   "source": []
  }
 ],
 "metadata": {
  "kernelspec": {
   "display_name": ".venv",
   "language": "python",
   "name": "python3"
  },
  "language_info": {
   "codemirror_mode": {
    "name": "ipython",
    "version": 3
   },
   "file_extension": ".py",
   "mimetype": "text/x-python",
   "name": "python",
   "nbconvert_exporter": "python",
   "pygments_lexer": "ipython3",
   "version": "3.11.9"
  }
 },
 "nbformat": 4,
 "nbformat_minor": 2
}
